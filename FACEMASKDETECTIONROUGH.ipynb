{
  "nbformat": 4,
  "nbformat_minor": 0,
  "metadata": {
    "colab": {
      "name": "FACEMASKDETECTIONROUGH.ipynb",
      "provenance": [],
      "mount_file_id": "1nBUQHh3Z-LOH1OvapOxkHHylw-AG4-Vf",
      "authorship_tag": "ABX9TyMr9TjH0owWhCqPTPCSZPly",
      "include_colab_link": true
    },
    "kernelspec": {
      "display_name": "Python 3",
      "name": "python3"
    }
  },
  "cells": [
    {
      "cell_type": "markdown",
      "metadata": {
        "id": "view-in-github",
        "colab_type": "text"
      },
      "source": [
        "<a href=\"https://colab.research.google.com/github/anushaharikrishnan/MyFlaskTutorial/blob/master/FACEMASKDETECTIONROUGH.ipynb\" target=\"_parent\"><img src=\"https://colab.research.google.com/assets/colab-badge.svg\" alt=\"Open In Colab\"/></a>"
      ]
    },
    {
      "cell_type": "code",
      "metadata": {
        "id": "aonY1wI-htXG"
      },
      "source": [
        "import os\n",
        "import zipfile\n",
        "import random\n",
        "import tensorflow as tf\n",
        "import shutil\n",
        "from tensorflow.keras.optimizers import RMSprop\n",
        "from tensorflow.keras.preprocessing.image import ImageDataGenerator\n",
        "from shutil import copyfile\n",
        "from os import getcwd"
      ],
      "execution_count": null,
      "outputs": []
    },
    {
      "cell_type": "code",
      "metadata": {
        "colab": {
          "base_uri": "https://localhost:8080/"
        },
        "id": "HTNJp19dh3YM",
        "outputId": "379b3ece-5462-4aab-f982-1b7a39f0b25e"
      },
      "source": [
        "print(len(os.listdir('/content/drive/MyDrive/Face Mask Detection/dataset/with mask')))\n",
        "print(len(os.listdir('/content/drive/MyDrive/Face Mask Detection/dataset/without mask')))"
      ],
      "execution_count": null,
      "outputs": [
        {
          "output_type": "stream",
          "text": [
            "690\n",
            "686\n"
          ],
          "name": "stdout"
        }
      ]
    },
    {
      "cell_type": "code",
      "metadata": {
        "id": "f7m09US6jBdm"
      },
      "source": [
        "try:\n",
        "  os.mkdir('/tmp/withmask-or-withoutmask')\n",
        "  os.mkdir('/tmp/withmask-or-withoutmask/training')\n",
        "  os.mkdir('/tmp/withmask-or-withoutmask/testing')\n",
        "  os.mkdir('/tmp/withmask-or-withoutmask/training/withmask')\n",
        "  os.mkdir('/tmp/withmask-or-withoutmask/training/withoutmask')\n",
        "  os.mkdir('/tmp/withmask-or-withoutmask/testing/withmask')\n",
        "  os.mkdir('/tmp/withmask-or-withoutmask/testing/withoutmask')\n",
        "\n",
        "except OSError:\n",
        "  pass"
      ],
      "execution_count": null,
      "outputs": []
    },
    {
      "cell_type": "code",
      "metadata": {
        "colab": {
          "background_save": true
        },
        "id": "qnFrM2fXlOxi"
      },
      "source": [
        "def split_data(SOURCE, TRAINING, TESTING, SPLIT_SIZE):\n",
        "  files = []\n",
        "  for filename in os.listdir(SOURCE):\n",
        "        file = SOURCE + filename\n",
        "        if os.path.getsize(file) > 0:\n",
        "            files.append(filename)\n",
        "        else:\n",
        "            print(filename + \" is zero length, so ignoring.\")\n",
        "  training_length = int(len(files) * SPLIT_SIZE)\n",
        "  testing_length = int(len(files) - training_length)\n",
        "  shuffled_set = random.sample(files, len(files))\n",
        "  training_set = shuffled_set[0:training_length]\n",
        "  testing_set = shuffled_set[-testing_length:]\n",
        "  \n",
        "  for filename in training_set:\n",
        "    this_file = SOURCE + filename\n",
        "    destination = TRAINING + filename\n",
        "    copyfile(this_file, destination)\n",
        "  for filename in testing_set:\n",
        "    this_file = SOURCE + filename\n",
        "    destination = TESTING + filename\n",
        "    copyfile(this_file, destination)\n",
        "\n",
        "\n",
        "\n",
        "MASK_SOURCE_DIR=\"/content/drive/MyDrive/Face Mask Detection/dataset/with mask/\"\n",
        "TRAINING_MASK_DIR=\"/tmp/withmask-or-withoutmask/training/withmask/\"\n",
        "TESTING_MASK_DIR=\"/tmp/withmask-or-withoutmask/testing/withmask/\"\n",
        "WITHOUTMASK_SOURCE_DIR=\"/content/drive/MyDrive/Face Mask Detection/dataset/without mask/\"\n",
        "TRAINING_WITHOUTMASK_DIR=\"/tmp/withmask-or-withoutmask/training/withoutmask/\"\n",
        "TESTING_WITHOUTMASK_DIR=\"/tmp/withmask-or-withoutmask/testing/withoutmask/\"\n",
        "\n",
        "split_size = .9\n",
        "\n",
        "split_data(MASK_SOURCE_DIR,TRAINING_MASK_DIR,TESTING_MASK_DIR,split_size)\n",
        "split_data(WITHOUTMASK_SOURCE_DIR,TRAINING_WITHOUTMASK_DIR,TESTING_WITHOUTMASK_DIR,split_size)"
      ],
      "execution_count": null,
      "outputs": []
    },
    {
      "cell_type": "code",
      "metadata": {
        "id": "i-WvkvjgBt6v",
        "colab": {
          "base_uri": "https://localhost:8080/"
        },
        "outputId": "1360c742-9318-4237-c36d-971a9601a102"
      },
      "source": [
        "print(len(os.listdir('/tmp/withmask-or-withoutmask/training/withmask/')))"
      ],
      "execution_count": 5,
      "outputs": [
        {
          "output_type": "stream",
          "text": [
            "621\n"
          ],
          "name": "stdout"
        }
      ]
    },
    {
      "cell_type": "code",
      "metadata": {
        "id": "QyUL3TALIk5x"
      },
      "source": [
        ""
      ],
      "execution_count": null,
      "outputs": []
    }
  ]
}